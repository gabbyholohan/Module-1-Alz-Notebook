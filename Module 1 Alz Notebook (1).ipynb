{
 "cells": [
  {
   "cell_type": "markdown",
   "id": "07d08828-39be-453d-9c15-7d0737ceb72f",
   "metadata": {},
   "source": [
    "# Module_1: *Alzheimer's Research Project*\n",
    "\n",
    "## Team Members:\n",
    "*Gabby Holohan & Jack Hancock*\n",
    "\n",
    "## Project Title:\n",
    "*Alzheimer's Research Project*\n",
    "\n"
   ]
  },
  {
   "cell_type": "markdown",
   "id": "8372d796-186a-4ae2-9b4f-0065979e555a",
   "metadata": {},
   "source": [
    "## Project Goal:\n",
    "This project seeks to investigate the impact of the APOE genotype on the age of onset of Alzheimer's symptoms for patients treated in the US. How does sex impact the onset with the APOE gene? "
   ]
  },
  {
   "attachments": {},
   "cell_type": "markdown",
   "id": "91408b75-185a-4d66-9ce7-7c7aabbde5e1",
   "metadata": {},
   "source": [
    "## Disease Background: \n",
    "*Fill in information about 11 bullets:*\n",
    "\n",
    "* Prevalence & incidence\n",
    "\n",
    "    - Prevalence: In 2025, about 7.2 million Americans age 65 and older are living with Alzheimer’s dementia. That is about 1 in 9 people age 65+. Throughout the world, this number is 55 million (2024).\n",
    "    - Incidence: For ages 65-69: about 2.8 per 1,000 person-years\n",
    "    https://www.alz.org/getmedia/ef8f48f9-ad36-48ea-87f9-b74034635c1e/alzheimers-facts-and-figures.pdf \n",
    "* Economic burden\n",
    "    - estimated at over $360 billion annually in the U.S. alone (2024), including direct health care costs, long-term care, and unpaid caregiving. The out-of-pocket expenses for patients and caregivers is estimated at 91 billion\n",
    "    https://curealz.org/the-basics-of-alzheimers-disease/statistics-and-costs/?\n",
    "* Risk factors (genetic, lifestyle):\n",
    "\n",
    "-Less than 1% purely genetic (disease almost guaranteed)-->develop middle age\n",
    "-environmental risk factors: older age, increased chances if 1st degree relative had disease --> familial genetic factors not understood yet, apolipoprotein E (APOE) gene -- APOE e4 increases risk - 25-30% of population carries APOE e4 but not all develop disease - having two copies AOE e4 increases risk more than 1, some rare changes in genes that almost ensure Alzheimer's onset but very rare <1%, down syndrome more likely (3 copies chromosome 21 - gene involved in producing protein leading to creation of Beta-amyloid) --> symptoms occur 10-20yrs earlier w/ down syndrome, overall more women w/ Alz bc they tend to live longer, mild cognitive impairment (MCI) can be at higher risk for Alz, traumatic brain injurgy (TBI) for 50+ --> more risk w/ more severe or multiple, air pollution exposure, heavy alcohol use --> also early onset, poor sleep patterns, lifestyle risks:\n",
    "lack of exercise, \n",
    "obesity, \n",
    "smoking/secondhand exposure\n",
    "https://www.mayoclinic.org/diseases-conditions/alzheimers-disease/symptoms-causes/syc-20350447\n",
    "* Societal determinants\n",
    "* Symptoms - repeating statements/questions, forgetting things, misplacing items, getting lost in familiar places, forgetting names of people/ objects, having trouble conversating\n",
    "trouble concentrating/thinking (math, multiple tasks, etc) --> eventually may not recognize numbers\n",
    "difficulty decision making\n",
    "trouble planning or doing simple tasks (getting dressed)\n",
    "changes in personality/behavior (depressed, withdrawn, distrusting, anger, sleeping habits changing, delusions, wandering, losing inhibitions)\n",
    "Some preserved skills --> things people can do even late-stage\n",
    "https://www.mayoclinic.org/diseases-conditions/alzheimers-disease/symptoms-causes/syc-20350447\n",
    "\n",
    "* Diagnosis\n",
    "* Standard of care treatments (& reimbursement) \n",
    "* Disease progression & prognosis\n",
    "* Continuum of care providers\n",
    "* Biological mechanisms (anatomy, organ physiology, cell & molecular physiology)\n",
    "* Clinical Trials/next-gen therapies"
   ]
  },
  {
   "cell_type": "code",
   "execution_count": null,
   "id": "0a6c1ef0",
   "metadata": {
    "vscode": {
     "languageId": "plaintext"
    }
   },
   "outputs": [],
   "source": []
  },
  {
   "cell_type": "markdown",
   "id": "3b99aefb-cb03-4bd8-b972-437eb0e02dfe",
   "metadata": {},
   "source": [
    "## Data-Set: \n",
    "*(Describe the data set(s) you will analyze. Cite the source(s) of the data.)*"
   ]
  },
  {
   "cell_type": "markdown",
   "id": "f4cde622-5508-4a54-aba8-77b454138bff",
   "metadata": {},
   "source": [
    "## Data Analyis: \n",
    "*(Describe how you analyzed the data. This is where you should intersperse your Python code so that anyone reading this can run your code to perform the analysis that you did, generate your figures, etc.)*"
   ]
  },
  {
   "cell_type": "markdown",
   "id": "5c67b6a4-ec94-4d28-b2a7-f6b860495118",
   "metadata": {},
   "source": [
    "## Verify and validate your analysis: \n",
    "*(Describe how you checked to see that your analysis gave you an answer that you believe (verify). Describe how your determined if your analysis gave you an answer that is supported by other evidence (e.g., a published paper).*"
   ]
  },
  {
   "cell_type": "markdown",
   "id": "2736cf95-2b93-444f-90c8-d40a54fc1df1",
   "metadata": {},
   "source": [
    "## Conclusions and Ethical Implications: \n",
    "*(Think about the answer your analysis generated, draw conclusions related to your overarching question, and discuss the ethical implications of your conclusions.*"
   ]
  },
  {
   "cell_type": "markdown",
   "id": "f023b735-6efb-43ed-a03d-eb4a9cdb734e",
   "metadata": {},
   "source": [
    "## Limitations and Future Work: \n",
    "*(Think about the answer your analysis generated, draw conclusions related to your overarching question, and discuss the ethical implications of your conclusions.*"
   ]
  }
 ],
 "metadata": {
  "kernelspec": {
   "display_name": "Python [conda env:base] *",
   "language": "python",
   "name": "conda-base-py"
  },
  "language_info": {
   "codemirror_mode": {
    "name": "ipython",
    "version": 3
   },
   "file_extension": ".py",
   "mimetype": "text/x-python",
   "name": "python",
   "nbconvert_exporter": "python",
   "pygments_lexer": "ipython3",
   "version": "3.13.5"
  }
 },
 "nbformat": 4,
 "nbformat_minor": 5
}
